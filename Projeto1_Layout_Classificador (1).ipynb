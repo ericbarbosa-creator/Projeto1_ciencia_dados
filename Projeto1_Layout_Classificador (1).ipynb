{
 "cells": [
  {
   "cell_type": "markdown",
   "metadata": {},
   "source": [
    "# Projeto 1 - Ciência dos Dados"
   ]
  },
  {
   "cell_type": "markdown",
   "metadata": {},
   "source": [
    "Nome: Eric de Araújo Lima Barbosa\n",
    "\n",
    "Nome: Lucca de Paiva Barroso Saraiva"
   ]
  },
  {
   "cell_type": "markdown",
   "metadata": {},
   "source": [
    "___\n",
    "Carregando algumas bibliotecas:"
   ]
  },
  {
   "cell_type": "code",
   "execution_count": 1,
   "metadata": {},
   "outputs": [],
   "source": [
    "%matplotlib inline\n",
    "import pandas as pd\n",
    "import matplotlib.pyplot as plt\n",
    "import numpy as np\n",
    "import os"
   ]
  },
  {
   "cell_type": "code",
   "execution_count": 2,
   "metadata": {
    "scrolled": false
   },
   "outputs": [
    {
     "name": "stdout",
     "output_type": "stream",
     "text": [
      "Esperamos trabalhar no diretório\n",
      "C:\\Users\\lucca\\Desktop\\Projeto1_ciencia_dados\n"
     ]
    }
   ],
   "source": [
    "print('Esperamos trabalhar no diretório')\n",
    "print(os.getcwd())"
   ]
  },
  {
   "cell_type": "markdown",
   "metadata": {},
   "source": [
    "Carregando a base de dados com os tweets classificados como relevantes e não relevantes:"
   ]
  },
  {
   "cell_type": "code",
   "execution_count": 3,
   "metadata": {},
   "outputs": [],
   "source": [
    "filename = 'netflix1.2.xlsx'"
   ]
  },
  {
   "cell_type": "code",
   "execution_count": 4,
   "metadata": {},
   "outputs": [
    {
     "data": {
      "text/html": [
       "<div>\n",
       "<style scoped>\n",
       "    .dataframe tbody tr th:only-of-type {\n",
       "        vertical-align: middle;\n",
       "    }\n",
       "\n",
       "    .dataframe tbody tr th {\n",
       "        vertical-align: top;\n",
       "    }\n",
       "\n",
       "    .dataframe thead th {\n",
       "        text-align: right;\n",
       "    }\n",
       "</style>\n",
       "<table border=\"1\" class=\"dataframe\">\n",
       "  <thead>\n",
       "    <tr style=\"text-align: right;\">\n",
       "      <th></th>\n",
       "      <th>Treinamento</th>\n",
       "      <th>classificação</th>\n",
       "    </tr>\n",
       "  </thead>\n",
       "  <tbody>\n",
       "    <tr>\n",
       "      <th>0</th>\n",
       "      <td>namoral as serie da hbo max pisa samba rebola ...</td>\n",
       "      <td>1</td>\n",
       "    </tr>\n",
       "    <tr>\n",
       "      <th>1</th>\n",
       "      <td>rt @xd_xandao: @gaguinho001 porra tlgd kkkkkkk...</td>\n",
       "      <td>1</td>\n",
       "    </tr>\n",
       "    <tr>\n",
       "      <th>2</th>\n",
       "      <td>rt @___dudasilvaa: eu e juan vimos todos os fi...</td>\n",
       "      <td>0</td>\n",
       "    </tr>\n",
       "    <tr>\n",
       "      <th>3</th>\n",
       "      <td>com a criação destes streaminga doa estúdios d...</td>\n",
       "      <td>1</td>\n",
       "    </tr>\n",
       "    <tr>\n",
       "      <th>4</th>\n",
       "      <td>gosto da amazon prime, mais tem tanta série qu...</td>\n",
       "      <td>0</td>\n",
       "    </tr>\n",
       "  </tbody>\n",
       "</table>\n",
       "</div>"
      ],
      "text/plain": [
       "                                         Treinamento  classificação\n",
       "0  namoral as serie da hbo max pisa samba rebola ...              1\n",
       "1  rt @xd_xandao: @gaguinho001 porra tlgd kkkkkkk...              1\n",
       "2  rt @___dudasilvaa: eu e juan vimos todos os fi...              0\n",
       "3  com a criação destes streaminga doa estúdios d...              1\n",
       "4  gosto da amazon prime, mais tem tanta série qu...              0"
      ]
     },
     "execution_count": 4,
     "metadata": {},
     "output_type": "execute_result"
    }
   ],
   "source": [
    "train = pd.read_excel(filename)\n",
    "train.head(5)"
   ]
  },
  {
   "cell_type": "code",
   "execution_count": 5,
   "metadata": {},
   "outputs": [
    {
     "data": {
      "text/html": [
       "<div>\n",
       "<style scoped>\n",
       "    .dataframe tbody tr th:only-of-type {\n",
       "        vertical-align: middle;\n",
       "    }\n",
       "\n",
       "    .dataframe tbody tr th {\n",
       "        vertical-align: top;\n",
       "    }\n",
       "\n",
       "    .dataframe thead th {\n",
       "        text-align: right;\n",
       "    }\n",
       "</style>\n",
       "<table border=\"1\" class=\"dataframe\">\n",
       "  <thead>\n",
       "    <tr style=\"text-align: right;\">\n",
       "      <th></th>\n",
       "      <th>Teste</th>\n",
       "      <th>classificação</th>\n",
       "    </tr>\n",
       "  </thead>\n",
       "  <tbody>\n",
       "    <tr>\n",
       "      <th>0</th>\n",
       "      <td>rt @notthatindigo: sim, eu me garanto sem filt...</td>\n",
       "      <td>0</td>\n",
       "    </tr>\n",
       "    <tr>\n",
       "      <th>1</th>\n",
       "      <td>leitores morrem após não receber nenhuma propo...</td>\n",
       "      <td>0</td>\n",
       "    </tr>\n",
       "    <tr>\n",
       "      <th>2</th>\n",
       "      <td>@netflixbrasil se vc tirar naruto vc me paga n...</td>\n",
       "      <td>1</td>\n",
       "    </tr>\n",
       "    <tr>\n",
       "      <th>3</th>\n",
       "      <td>faltou o loirinho pra assistir netflix cmg #askbf</td>\n",
       "      <td>0</td>\n",
       "    </tr>\n",
       "    <tr>\n",
       "      <th>4</th>\n",
       "      <td>netflix se as personagens são portugueses não ...</td>\n",
       "      <td>1</td>\n",
       "    </tr>\n",
       "  </tbody>\n",
       "</table>\n",
       "</div>"
      ],
      "text/plain": [
       "                                               Teste  classificação\n",
       "0  rt @notthatindigo: sim, eu me garanto sem filt...              0\n",
       "1  leitores morrem após não receber nenhuma propo...              0\n",
       "2  @netflixbrasil se vc tirar naruto vc me paga n...              1\n",
       "3  faltou o loirinho pra assistir netflix cmg #askbf              0\n",
       "4  netflix se as personagens são portugueses não ...              1"
      ]
     },
     "execution_count": 5,
     "metadata": {},
     "output_type": "execute_result"
    }
   ],
   "source": [
    "test = pd.read_excel(filename, sheet_name = 'Teste')\n",
    "test.head(5)"
   ]
  },
  {
   "cell_type": "markdown",
   "metadata": {},
   "source": [
    "___\n",
    "## Classificador automático de sentimento\n"
   ]
  },
  {
   "cell_type": "markdown",
   "metadata": {},
   "source": [
    "\n",
    "\n",
    "**O produto escolhido foi a plataforma de streaming de filmes e séries, Netflix. Para esse projeto, consideramos como relevantes \n",
    "quaisquer tweets que mencionassem a marca netflix e títulos atrelados à ela, incluindo: Críticas à plataforma, comparações com \n",
    "concorrentes, elogios à plataforma e críticas e elogios direcionados à séries presentes no catálogo pela netflix.**"
   ]
  },
  {
   "cell_type": "markdown",
   "metadata": {},
   "source": [
    "___\n",
    "### Montando um Classificador Naive-Bayes\n",
    "\n"
   ]
  },
  {
   "cell_type": "code",
   "execution_count": 6,
   "metadata": {},
   "outputs": [],
   "source": [
    "import re \n",
    "\n",
    "\n",
    "def cleanup(text):\n",
    "    \"\"\"\n",
    "        Função de limpeza muito simples que troca alguns sinais básicos por espaços\n",
    "    \"\"\"\n",
    "    #import string\n",
    "    punctuation = '[!-.:?;\\n]' # Note que os sinais [] são delimitadores de um conjunto.\n",
    "    pattern = re.compile(punctuation)\n",
    "    text_subbed = re.sub(pattern, '', text)\n",
    "    return text_subbed"
   ]
  },
  {
   "cell_type": "code",
   "execution_count": 7,
   "metadata": {},
   "outputs": [],
   "source": [
    "#Separando o dataframe em dois considerando a classificação(1->RELEVANTE/0->IRRELEVANTE)\n",
    "tweet_train = train.Treinamento\n",
    "\n",
    "tweet_train_rel = train.loc[train['classificação']== 1,:]\n",
    "tweet_train_rel = tweet_train_rel.Treinamento\n",
    "\n",
    "\n",
    "\n",
    "tweet_train_irrel = train.loc[train['classificação']== 0,:]\n",
    "tweet_train_irrel = tweet_train_irrel.Treinamento\n",
    "\n"
   ]
  },
  {
   "cell_type": "code",
   "execution_count": 8,
   "metadata": {},
   "outputs": [],
   "source": [
    "#limpando todos os tweets da base de treino e criando uma série que contenha todas as palavras\n",
    "tweets = []\n",
    "for texto in tweet_train:\n",
    "    \n",
    "    tweet_raw = cleanup(texto.lower()).split()\n",
    "    \n",
    "    \n",
    "    for palavra in tweet_raw:\n",
    "        #limpa os 'rt's e os links\n",
    "        if palavra != 'rt' and palavra[:4] != 'http':\n",
    "            tweets.append(palavra)\n",
    "        else:\n",
    "            pass\n",
    "        \n",
    "\n",
    "\n",
    "\n",
    "tweets_tot_serie = pd.Series(tweets)\n",
    "\n",
    "\n",
    "\n",
    "\n"
   ]
  },
  {
   "cell_type": "code",
   "execution_count": 9,
   "metadata": {},
   "outputs": [
    {
     "name": "stdout",
     "output_type": "stream",
     "text": [
      "2774\n"
     ]
    }
   ],
   "source": [
    "#limpando os tweets relevantes da base de treino e criando uma série que contenha todas as palavras dos tweets relevantes\n",
    "tweets_rel = []\n",
    "for texto in tweet_train_rel:\n",
    "    \n",
    "    tweet_raw = cleanup(texto.lower()).split()\n",
    "    \n",
    "    \n",
    "    for palavra in tweet_raw:\n",
    "        #limpa os 'rt's e os links\n",
    "        if palavra != 'rt' and palavra[:4] != 'http':\n",
    "            tweets_rel.append(palavra)\n",
    "        else:\n",
    "            pass\n",
    "\n",
    "        \n",
    "#Total de palavras contando os tweets RELEVANTES(leva em conta palavras repetidas)\n",
    "print(len(tweets_rel))"
   ]
  },
  {
   "cell_type": "code",
   "execution_count": 10,
   "metadata": {},
   "outputs": [
    {
     "data": {
      "text/plain": [
       "netflix       140\n",
       "a              78\n",
       "de             73\n",
       "que            62\n",
       "e              60\n",
       "             ... \n",
       "quase           1\n",
       "indicações      1\n",
       "foram           1\n",
       "realizar        1\n",
       "👏🏻🙏🏻            1\n",
       "Length: 1108, dtype: int64"
      ]
     },
     "execution_count": 10,
     "metadata": {},
     "output_type": "execute_result"
    }
   ],
   "source": [
    "#Serie com todas as palavras de tweets relevantes\n",
    "tweets_rel_serie = pd.Series(tweets_rel)\n",
    "\n",
    "#contagem do numero de vezes que cada palavra aparece em tweets relevantes\n",
    "tweets_rel_serie.value_counts()"
   ]
  },
  {
   "cell_type": "code",
   "execution_count": 11,
   "metadata": {},
   "outputs": [
    {
     "name": "stdout",
     "output_type": "stream",
     "text": [
      "2788\n"
     ]
    }
   ],
   "source": [
    "#limpando os tweets irrelevantes da base de treino e criando uma série que contenha todas as palavras dos tweets irrelevantes\n",
    "tweets_irrel = []\n",
    "for texto in tweet_train_irrel:\n",
    "    \n",
    "    tweet_raw = cleanup(texto.lower()).split()\n",
    "    \n",
    "    \n",
    "    for palavra in tweet_raw:\n",
    "        #limpa os 'rt's e os links\n",
    "        if palavra != 'rt' and palavra[:4] != 'http':\n",
    "            tweets_irrel.append(palavra)\n",
    "        else:\n",
    "            pass\n",
    "\n",
    "        \n",
    "#Total de palavras contando os tweets IRRELEVANTES(leva em conta palavras repetidas)\n",
    "print(len(tweets_irrel))"
   ]
  },
  {
   "cell_type": "code",
   "execution_count": 12,
   "metadata": {},
   "outputs": [
    {
     "data": {
      "text/plain": [
       "netflix        137\n",
       "e               78\n",
       "a               75\n",
       "que             69\n",
       "de              58\n",
       "              ... \n",
       "cpa              1\n",
       "tarde            1\n",
       "netflixamor      1\n",
       "@electro31p      1\n",
       "voltar           1\n",
       "Length: 1166, dtype: int64"
      ]
     },
     "execution_count": 12,
     "metadata": {},
     "output_type": "execute_result"
    }
   ],
   "source": [
    "#Serie com todas as palavras de tweets relevantes\n",
    "tweets_irrel_serie = pd.Series(tweets_irrel)\n",
    "\n",
    "#contagem do numero de vezes que cada palavra aparece em tweets relevantes\n",
    "tweets_irrel_serie.value_counts()"
   ]
  },
  {
   "cell_type": "code",
   "execution_count": 13,
   "metadata": {},
   "outputs": [],
   "source": [
    "#probabilidade de um tweet ser relevante (nº de tweets relevantes na base de treino/total de tweets na base de treino)\n",
    "P_rel = len(tweet_train_rel)/len(tweet_train)\n",
    "\n",
    "#probabilidade de um tweet ser irrelevante (nº de tweets irrelevantes na base de treino/total de tweets na base de treino)\n",
    "P_irrel = len(tweet_train_irrel)/len(tweet_train)\n",
    "\n",
    "\n"
   ]
  },
  {
   "cell_type": "code",
   "execution_count": 14,
   "metadata": {},
   "outputs": [],
   "source": [
    "#Definindo uma função que calcula a probabilidade de um dado tweet ser relevante\n",
    "def P_rel_dado_tweet(tweet):\n",
    "    separado = tweet.split()\n",
    "    P_tweet_dado_rel = 1\n",
    "    for palavra in separado:\n",
    "        if palavra in tweets_rel_serie.value_counts():\n",
    "            P_tweet_dado_rel = P_tweet_dado_rel*((tweets_rel_serie.value_counts()[palavra]+1)/(len(tweets_rel)+len(tweets_tot_serie.value_counts())))\n",
    "        \n",
    "            \n",
    "        else:\n",
    "            P_tweet_dado_rel = P_tweet_dado_rel*((0+1)/(len(tweets_rel)+len(tweets_tot_serie.value_counts())))\n",
    "        \n",
    "    resultado = P_tweet_dado_rel * P_rel\n",
    "            \n",
    "    \n",
    "    return resultado"
   ]
  },
  {
   "cell_type": "code",
   "execution_count": 15,
   "metadata": {},
   "outputs": [],
   "source": [
    "#Definindo uma função que calcula a probabilidade de um dado tweet ser irrelevante\n",
    "def P_irrel_dado_tweet(tweet):\n",
    "    separado = tweet.split()\n",
    "    P_tweet_dado_irrel = 1\n",
    "    for palavra in separado:\n",
    "        if palavra in tweets_irrel_serie.value_counts():\n",
    "            P_tweet_dado_irrel = P_tweet_dado_irrel*((tweets_irrel_serie.value_counts()[palavra]+1)/(len(tweets_irrel)+len(tweets_tot_serie.value_counts())))\n",
    "        \n",
    "            \n",
    "        else:\n",
    "            P_tweet_dado_irrel = P_tweet_dado_irrel*((0+1)/(len(tweets_irrel)+len(tweets_tot_serie.value_counts())))\n",
    "            \n",
    "    resultado = P_tweet_dado_irrel * P_irrel\n",
    "            \n",
    "    return resultado\n",
    "\n"
   ]
  },
  {
   "cell_type": "markdown",
   "metadata": {},
   "source": [
    "___\n",
    "### Verificando a performance do Classificador\n",
    "\n"
   ]
  },
  {
   "cell_type": "code",
   "execution_count": 16,
   "metadata": {},
   "outputs": [
    {
     "data": {
      "text/html": [
       "<div>\n",
       "<style scoped>\n",
       "    .dataframe tbody tr th:only-of-type {\n",
       "        vertical-align: middle;\n",
       "    }\n",
       "\n",
       "    .dataframe tbody tr th {\n",
       "        vertical-align: top;\n",
       "    }\n",
       "\n",
       "    .dataframe thead th {\n",
       "        text-align: right;\n",
       "    }\n",
       "</style>\n",
       "<table border=\"1\" class=\"dataframe\">\n",
       "  <thead>\n",
       "    <tr style=\"text-align: right;\">\n",
       "      <th></th>\n",
       "      <th>tweets</th>\n",
       "      <th>classificação</th>\n",
       "    </tr>\n",
       "  </thead>\n",
       "  <tbody>\n",
       "    <tr>\n",
       "      <th>0</th>\n",
       "      <td>@notthatindigo sim eu me garanto sem filtro tw...</td>\n",
       "      <td>0</td>\n",
       "    </tr>\n",
       "    <tr>\n",
       "      <th>1</th>\n",
       "      <td>leitores morrem após não receber nenhuma propo...</td>\n",
       "      <td>0</td>\n",
       "    </tr>\n",
       "    <tr>\n",
       "      <th>2</th>\n",
       "      <td>@netflixbrasil se vc tirar naruto vc me paga n...</td>\n",
       "      <td>1</td>\n",
       "    </tr>\n",
       "    <tr>\n",
       "      <th>3</th>\n",
       "      <td>faltou o loirinho pra assistir netflix cmg askbf</td>\n",
       "      <td>0</td>\n",
       "    </tr>\n",
       "    <tr>\n",
       "      <th>4</th>\n",
       "      <td>netflix se as personagens são portugueses não ...</td>\n",
       "      <td>1</td>\n",
       "    </tr>\n",
       "    <tr>\n",
       "      <th>5</th>\n",
       "      <td>primeira imagem conceitual de troll filme da n...</td>\n",
       "      <td>0</td>\n",
       "    </tr>\n",
       "    <tr>\n",
       "      <th>6</th>\n",
       "      <td>@omelete idris elba e caleb mclaughlin têm rel...</td>\n",
       "      <td>1</td>\n",
       "    </tr>\n",
       "    <tr>\n",
       "      <th>7</th>\n",
       "      <td>@hbomaxbr_portal gosto de acreditar que vem no...</td>\n",
       "      <td>1</td>\n",
       "    </tr>\n",
       "    <tr>\n",
       "      <th>8</th>\n",
       "      <td>@ruifilipe993 @netflix essa série é incrível e...</td>\n",
       "      <td>1</td>\n",
       "    </tr>\n",
       "    <tr>\n",
       "      <th>9</th>\n",
       "      <td>@kozumearts vê blue exorcist tem na netflix e ...</td>\n",
       "      <td>1</td>\n",
       "    </tr>\n",
       "  </tbody>\n",
       "</table>\n",
       "</div>"
      ],
      "text/plain": [
       "                                              tweets  classificação\n",
       "0  @notthatindigo sim eu me garanto sem filtro tw...              0\n",
       "1  leitores morrem após não receber nenhuma propo...              0\n",
       "2  @netflixbrasil se vc tirar naruto vc me paga n...              1\n",
       "3   faltou o loirinho pra assistir netflix cmg askbf              0\n",
       "4  netflix se as personagens são portugueses não ...              1\n",
       "5  primeira imagem conceitual de troll filme da n...              0\n",
       "6  @omelete idris elba e caleb mclaughlin têm rel...              1\n",
       "7  @hbomaxbr_portal gosto de acreditar que vem no...              1\n",
       "8  @ruifilipe993 @netflix essa série é incrível e...              1\n",
       "9  @kozumearts vê blue exorcist tem na netflix e ...              1"
      ]
     },
     "execution_count": 16,
     "metadata": {},
     "output_type": "execute_result"
    }
   ],
   "source": [
    "#preparando a base de testes para o teste de performance(aplicando limpezas)\n",
    "a_final = []\n",
    "for tweet in test.Teste:\n",
    "    a = cleanup(tweet)\n",
    "    b = a.split()\n",
    "    a_limpo = []\n",
    "    \n",
    "    \n",
    "    \n",
    "    \n",
    "    for palavra in b:\n",
    "            #limpa os 'rt's e os links\n",
    "        if palavra != 'rt' and palavra[:4] != 'http':\n",
    "            a_limpo.append(palavra)\n",
    "        else:\n",
    "            pass\n",
    "    a_limpo_tot = ' '.join(a_limpo)\n",
    "\n",
    "    a_final.append(a_limpo_tot)\n",
    "    \n",
    "    \n",
    "#criando um dataframe com os tweets da base de testes já limpos\n",
    "test['tweets'] = a_final\n",
    "\n",
    "test_final = test.loc[:, ['tweets', 'classificação']]\n",
    "\n",
    "test_final.head(10)\n",
    "\n",
    "\n"
   ]
  },
  {
   "cell_type": "code",
   "execution_count": 17,
   "metadata": {},
   "outputs": [
    {
     "data": {
      "text/html": [
       "<div>\n",
       "<style scoped>\n",
       "    .dataframe tbody tr th:only-of-type {\n",
       "        vertical-align: middle;\n",
       "    }\n",
       "\n",
       "    .dataframe tbody tr th {\n",
       "        vertical-align: top;\n",
       "    }\n",
       "\n",
       "    .dataframe thead th {\n",
       "        text-align: right;\n",
       "    }\n",
       "</style>\n",
       "<table border=\"1\" class=\"dataframe\">\n",
       "  <thead>\n",
       "    <tr style=\"text-align: right;\">\n",
       "      <th></th>\n",
       "      <th>tweets</th>\n",
       "      <th>classificação</th>\n",
       "      <th>teste</th>\n",
       "    </tr>\n",
       "  </thead>\n",
       "  <tbody>\n",
       "    <tr>\n",
       "      <th>0</th>\n",
       "      <td>@notthatindigo sim eu me garanto sem filtro tw...</td>\n",
       "      <td>0</td>\n",
       "      <td>0</td>\n",
       "    </tr>\n",
       "    <tr>\n",
       "      <th>1</th>\n",
       "      <td>leitores morrem após não receber nenhuma propo...</td>\n",
       "      <td>0</td>\n",
       "      <td>0</td>\n",
       "    </tr>\n",
       "    <tr>\n",
       "      <th>2</th>\n",
       "      <td>@netflixbrasil se vc tirar naruto vc me paga n...</td>\n",
       "      <td>1</td>\n",
       "      <td>1</td>\n",
       "    </tr>\n",
       "    <tr>\n",
       "      <th>3</th>\n",
       "      <td>faltou o loirinho pra assistir netflix cmg askbf</td>\n",
       "      <td>0</td>\n",
       "      <td>0</td>\n",
       "    </tr>\n",
       "    <tr>\n",
       "      <th>4</th>\n",
       "      <td>netflix se as personagens são portugueses não ...</td>\n",
       "      <td>1</td>\n",
       "      <td>0</td>\n",
       "    </tr>\n",
       "    <tr>\n",
       "      <th>...</th>\n",
       "      <td>...</td>\n",
       "      <td>...</td>\n",
       "      <td>...</td>\n",
       "    </tr>\n",
       "    <tr>\n",
       "      <th>189</th>\n",
       "      <td>@deltanz eu lembro que tinha isso isso eh comu...</td>\n",
       "      <td>0</td>\n",
       "      <td>0</td>\n",
       "    </tr>\n",
       "    <tr>\n",
       "      <th>190</th>\n",
       "      <td>alguém on pra indicar uma coisa mto boa pra ve...</td>\n",
       "      <td>0</td>\n",
       "      <td>0</td>\n",
       "    </tr>\n",
       "    <tr>\n",
       "      <th>191</th>\n",
       "      <td>pelo amor de deus netflix</td>\n",
       "      <td>1</td>\n",
       "      <td>0</td>\n",
       "    </tr>\n",
       "    <tr>\n",
       "      <th>192</th>\n",
       "      <td>@soy_qiima vai se fuder todo filme da netflixn...</td>\n",
       "      <td>1</td>\n",
       "      <td>0</td>\n",
       "    </tr>\n",
       "    <tr>\n",
       "      <th>193</th>\n",
       "      <td>hoje só um japa e netflix mudaria o meu humor</td>\n",
       "      <td>1</td>\n",
       "      <td>1</td>\n",
       "    </tr>\n",
       "  </tbody>\n",
       "</table>\n",
       "<p>194 rows × 3 columns</p>\n",
       "</div>"
      ],
      "text/plain": [
       "                                                tweets  classificação teste\n",
       "0    @notthatindigo sim eu me garanto sem filtro tw...              0     0\n",
       "1    leitores morrem após não receber nenhuma propo...              0     0\n",
       "2    @netflixbrasil se vc tirar naruto vc me paga n...              1     1\n",
       "3     faltou o loirinho pra assistir netflix cmg askbf              0     0\n",
       "4    netflix se as personagens são portugueses não ...              1     0\n",
       "..                                                 ...            ...   ...\n",
       "189  @deltanz eu lembro que tinha isso isso eh comu...              0     0\n",
       "190  alguém on pra indicar uma coisa mto boa pra ve...              0     0\n",
       "191                          pelo amor de deus netflix              1     0\n",
       "192  @soy_qiima vai se fuder todo filme da netflixn...              1     0\n",
       "193      hoje só um japa e netflix mudaria o meu humor              1     1\n",
       "\n",
       "[194 rows x 3 columns]"
      ]
     },
     "execution_count": 17,
     "metadata": {},
     "output_type": "execute_result"
    }
   ],
   "source": [
    "#importando a biblioteca random do python\n",
    "import random \n",
    "\n",
    "#Definindo uma função que classifica um dado tweet comparando sua probabilidade de ser relevante e irrelevante\n",
    "def classifica(tweet):\n",
    "    p1 = P_rel_dado_tweet(tweet)\n",
    "    p0=P_irrel_dado_tweet(tweet)\n",
    "    if p1>p0:\n",
    "        return '1' #se for mais provável do tweet ser relevante retorna a classificação 1\n",
    "    elif p0>p1:\n",
    "        return '0' #se for mais provável do tweet ser irrelevante retorna a classificação 0\n",
    "    else:\n",
    "        return random.randint(0,1) #se as probabilidades forem exatamente iguais, escolhe-se aleatoriamente uma classificação \n",
    "\n",
    "#roda o teste e cria uma nova coluna no dataframe de teste limpo que indica a classificação dada pelo classificador\n",
    "class_teste = []    \n",
    "for tweet in test_final['tweets']:\n",
    "    resultado = classifica(tweet)\n",
    "    class_teste.append(resultado)\n",
    "    \n",
    "\n",
    "test_final['teste'] = class_teste\n",
    "test_final   \n",
    "    \n",
    "        \n",
    "    \n",
    "\n",
    "        \n",
    "        "
   ]
  },
  {
   "cell_type": "markdown",
   "metadata": {},
   "source": [
    "**A tabela abaixo apresenta as porcentagens dos resultados do teste nas seguintes categorias:**\n",
    "\n",
    "- Verdadeiros negativos: **Linha 1 ; Coluna 1**\n",
    "- Falsos positivos: **Linha 1 ; Coluna 2**\n",
    "- Falsos negativos: **Linha 2 ; Coluna 1**\n",
    "- Verdadeiros positivos: **Linha 1 ; Coluna 1**"
   ]
  },
  {
   "cell_type": "code",
   "execution_count": 19,
   "metadata": {},
   "outputs": [
    {
     "data": {
      "text/html": [
       "<div>\n",
       "<style scoped>\n",
       "    .dataframe tbody tr th:only-of-type {\n",
       "        vertical-align: middle;\n",
       "    }\n",
       "\n",
       "    .dataframe tbody tr th {\n",
       "        vertical-align: top;\n",
       "    }\n",
       "\n",
       "    .dataframe thead th {\n",
       "        text-align: right;\n",
       "    }\n",
       "</style>\n",
       "<table border=\"1\" class=\"dataframe\">\n",
       "  <thead>\n",
       "    <tr style=\"text-align: right;\">\n",
       "      <th>teste</th>\n",
       "      <th>0</th>\n",
       "      <th>1</th>\n",
       "    </tr>\n",
       "    <tr>\n",
       "      <th>classificação</th>\n",
       "      <th></th>\n",
       "      <th></th>\n",
       "    </tr>\n",
       "  </thead>\n",
       "  <tbody>\n",
       "    <tr>\n",
       "      <th>0</th>\n",
       "      <td>34.02</td>\n",
       "      <td>18.56</td>\n",
       "    </tr>\n",
       "    <tr>\n",
       "      <th>1</th>\n",
       "      <td>17.53</td>\n",
       "      <td>29.90</td>\n",
       "    </tr>\n",
       "  </tbody>\n",
       "</table>\n",
       "</div>"
      ],
      "text/plain": [
       "teste              0      1\n",
       "classificação              \n",
       "0              34.02  18.56\n",
       "1              17.53  29.90"
      ]
     },
     "execution_count": 19,
     "metadata": {},
     "output_type": "execute_result"
    }
   ],
   "source": [
    "pd.crosstab(test_final['classificação'],test_final['teste'],normalize = True).round(4)*100"
   ]
  },
  {
   "cell_type": "markdown",
   "metadata": {},
   "source": [
    "**Para este teste obtivemos as seguintes porcentagens por tipo de resultado:**\n",
    "\n",
    "Verdadeiros negativos: **34,02%**\n",
    "\n",
    "Falsos positivos: **18,56%**\n",
    "\n",
    "Falsos negativos: **17,53%**\n",
    "\n",
    "Verdadeiros positivos: **29,9%**\n",
    "\n",
    "**Resultando em uma taxa de acerto de: 63,9%** "
   ]
  },
  {
   "cell_type": "markdown",
   "metadata": {},
   "source": [
    "___\n",
    "### Concluindo"
   ]
  },
  {
   "cell_type": "markdown",
   "metadata": {},
   "source": [
    "- **Como observado nos percentuais acima, o classificador conseguiu atingir uma performance razoável se comparado a um classificador aleatório, que tenderia a obter um precisão de 50%. Quando analiza-se os percentuais de resultados verdadeiros, pode-se verificar que apresentam resultados próximos, o que nos indica que quando o classificador obteve sucesso, a distribuição de resultados é próxima da real(aproximadamente metade dos tweets era relevante e metade era irrelevante). Por outro lado, ao observar os percentuais de resultados falsos, o classificador apresenta percentuais próximos para falsos positivos e falsos negativos, esse fato indica que o classificador, ao errar, não teve preferência por um tipo de erro específico, ou seja, não aparenta ter um viés para os erros.**\n",
    "___"
   ]
  },
  {
   "cell_type": "markdown",
   "metadata": {},
   "source": [
    "- **Tratamento de dupla negação e sarcasmo:** O classificador Naive-Bayes é considerado \"ingênuo\" pois ele trata as palavras de um texto de forma individual, sem considerar o contexto em que estão inseridas, levando em conta apenas seu significado isolada das demais que compõe tal texto, nesse caso um tweet. Portanto este classificador na sua forma mais simples é incapaz de interpretar o contexto em que uma palavra está inserida para inferir seu real significado. Alem disso tal incapacidade tambem o limita de identificar que duplas negações podem significar uma afirmação pois estas negações são tratadas independentemente uma da outra.\n",
    "___"
   ]
  },
  {
   "cell_type": "markdown",
   "metadata": {},
   "source": [
    "- **Plano de expansão:** Em uma primeira iteração, nosso classificador já conseguiu atingir uma precisão razoável mesmo possuindo métodos de limpeza e análise considerados simples, isto é um indicativo do potencial do classificador. Do ponto de vista da equipe de marketing de uma grande empresa como a netflix, é de extrema importância saber o sentimento geral dos consumidores acerca de seus produtos, nosso classificador se apresenta como um meio de automatizar o processo de filtragem de informações que serão úteis à empresa para a tomada de decisões estratégicas com a finalidade de atender às necessidades de sua base de clientes. Portanto, um investimento continuado no projeto pode trazer resultados ainda mais precisos de forma a garantir uma maior qualidade de informações à empresa.\n",
    "___"
   ]
  },
  {
   "cell_type": "markdown",
   "metadata": {},
   "source": [
    "- **Outros cenários de Naive-Bayes:** Alem de um classificador de tweets com base em relevância, outro cenário em que um classificador Naive-Bayes poderia ser usado é na criação de um filtro de spam para e-mails. O classificador consegue aprender, a partir de uma base de dados, quais são as palavras mais recorrentes em e-mails considerados spam e consequentemente consegue classificar novos e-mails como spam(são descartados) ou não-spam(direcionados à caixa de entrada). Outro cenário em que um classificador Naive-Bayes pode ser usado é na classificação de artigos científicos por área do conhecimento a partir das palavras-chave, identificando quais são as palavras-chave mais recorrentes em artigos de cada área e posteriormente classificando novos artigos.\n",
    "___"
   ]
  },
  {
   "cell_type": "markdown",
   "metadata": {},
   "source": [
    "[Naive Bayes and Text Classification](https://arxiv.org/pdf/1410.5329.pdf)  **Mais completo**\n",
    "\n",
    "[A practical explanation of a Naive Bayes Classifier](https://monkeylearn.com/blog/practical-explanation-naive-bayes-classifier/) **Mais simples**"
   ]
  },
  {
   "cell_type": "code",
   "execution_count": null,
   "metadata": {},
   "outputs": [],
   "source": []
  }
 ],
 "metadata": {
  "kernelspec": {
   "display_name": "Python 3",
   "language": "python",
   "name": "python3"
  },
  "language_info": {
   "codemirror_mode": {
    "name": "ipython",
    "version": 3
   },
   "file_extension": ".py",
   "mimetype": "text/x-python",
   "name": "python",
   "nbconvert_exporter": "python",
   "pygments_lexer": "ipython3",
   "version": "3.8.3"
  }
 },
 "nbformat": 4,
 "nbformat_minor": 4
}
